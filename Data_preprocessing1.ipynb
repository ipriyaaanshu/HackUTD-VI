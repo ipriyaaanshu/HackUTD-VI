{
 "cells": [
  {
   "cell_type": "code",
   "execution_count": 1,
   "metadata": {},
   "outputs": [],
   "source": [
    "import os\n",
    "import glob\n",
    "import pandas as pd\n",
    "import numpy as np\n",
    "\n",
    "import seaborn as sns\n",
    "import matplotlib.pyplot as plt\n",
    "%matplotlib inline"
   ]
  },
  {
   "cell_type": "code",
   "execution_count": 20,
   "metadata": {},
   "outputs": [],
   "source": [
    "loan_acquisition_file = glob.glob(os.path.join(\"Raw_data/Acquisition*.txt\"))"
   ]
  },
  {
   "cell_type": "code",
   "execution_count": 22,
   "metadata": {},
   "outputs": [],
   "source": [
    "df_from_each_file = (pd.read_csv(f,sep =\"|\", index_col=None, header=None) for f in loan_acquisition_file)\n",
    "df = pd.concat(df_from_each_file, ignore_index=True)"
   ]
  },
  {
   "cell_type": "code",
   "execution_count": 23,
   "metadata": {},
   "outputs": [],
   "source": [
    "df.rename(columns={\n",
    "                    0: 'Loan_ID', 1: 'Channel', 2: 'Seller', 3: 'Interest_Rate', 4: 'UPB', 5: 'Loan_Term', \n",
    "                    6: 'Origination_Date', 7: 'First_Payment_Date', 8: 'LTV', 9: 'CLTV', 10: 'Num_Borrowers',\n",
    "                    11: 'DTI', 12: 'Borrower_FICO', 13: 'First_Time_Buyer', 14: 'Loan_Purpose', 15: 'Dwelling_Type', \n",
    "                    16: 'Unit_Count', 17: 'Occupancy', 18: 'State', 19: 'Zip', 20: 'Insurance%', 21: 'Product',\n",
    "                    22: 'Co_Borrower_FICO', 23: 'Mortgage_Insurance_Type',24: 'Relocation_Indicator'}, \n",
    "                    inplace=True)"
   ]
  },
  {
   "cell_type": "code",
   "execution_count": 24,
   "metadata": {},
   "outputs": [],
   "source": [
    "df.to_csv('Acquisition_Q3_merged.csv',index=False)"
   ]
  },
  {
   "cell_type": "code",
   "execution_count": 2,
   "metadata": {},
   "outputs": [],
   "source": [
    "loan_performance_file = glob.glob(os.path.join( \"Raw_data/Performance_*.txt\"))"
   ]
  },
  {
   "cell_type": "code",
   "execution_count": 3,
   "metadata": {},
   "outputs": [],
   "source": [
    "def processing(df):\n",
    "\n",
    "    df['MONTHLY  REPORTING  PERIOD'] = df['MONTHLY  REPORTING  PERIOD'].apply(str).str[6:].apply(int)*100+df['MONTHLY  REPORTING  PERIOD'].apply(str).str[:2].apply(int)\n",
    "\n",
    "    idx = df.groupby(['LOAN IDENTIFIER'])['MONTHLY  REPORTING  PERIOD'].transform(max) == df['MONTHLY  REPORTING  PERIOD']\n",
    "\n",
    "    df = df[idx].copy()\n",
    "    \n",
    "    return df\n"
   ]
  },
  {
   "cell_type": "code",
   "execution_count": 4,
   "metadata": {},
   "outputs": [
    {
     "name": "stderr",
     "output_type": "stream",
     "text": [
      "C:\\ProgramData\\Anaconda3\\lib\\site-packages\\IPython\\core\\interactiveshell.py:3058: DtypeWarning: Columns (14,15,16) have mixed types. Specify dtype option on import or set low_memory=False.\n",
      "  interactivity=interactivity, compiler=compiler, result=result)\n"
     ]
    }
   ],
   "source": [
    "for file in loan_performance_file:\n",
    "    cols = ['LOAN IDENTIFIER', 'MONTHLY  REPORTING  PERIOD', 'SERVICER  NAME', 'currIntRate', 'CURRENT  ACTUAL  UPB',\n",
    "            'LOAN AGE', 'REMAINING  MONTHS  TO  LEGAL MATURITY', 'ADJUSTED  MONTHS  TO  MATURITY', 'MATURITY  DATE', \n",
    "            'METROPOLITAN  STATISTICAL  AREA  (MSA)', 'CURRENT  LOAN  DELINQUENCY  STATUS', 'MODIFICATION  FLAG',\n",
    "            'ZERO BALANCE CODE', 'ZERO  BALANCE  EFFECTIVE  DATE', 'LAST PAID INSTALLMENT  DATE', 'FORECLOSURE  DATE',\n",
    "            'DISPOSITION  DATE', 'FORECLOSURE  COSTS', 'PROPERTY  PRESERVATION  AND REPAIR  COSTS', 'ASSET  RECOVERY  COSTS',\n",
    "            'MISCELLANEOUS  HOLDING EXPENSES  AND  CREDITS' , 'ASSOCIATED  TAXES  FOR HOLDING PROPERTY', 'NET  SALE PROCEEDS',\n",
    "            'CREDIT ENHANCEMENT   PROCEEDS', 'REPURCHASE  MAKE  WHOLE  PROCEEDS', 'OTHER  FORECLOSURE  PROCEEDS', \n",
    "            'NON  INTEREST  BEARING  UPB', 'PRINCIPAL FORGIVENESS   AMOUNT', 'REPURCHASE  MAKE  WHOLE  PROCEEDS  FLAG',\n",
    "            'FORECLOSURE  PRINCIPAL WRITE-OFF  AMOUNT', 'SERVICING  ACTIVITY  INDICATOR']\n",
    "    \n",
    "    df = pd.read_csv(file, sep='|', index_col=None, header=None, names=cols)  \n",
    "    df = processing(df)\n",
    "    file_name = file.split('.')[0] + '_processed.csv'\n",
    "    df.to_csv(file_name,index=False)    "
   ]
  },
  {
   "cell_type": "code",
   "execution_count": 12,
   "metadata": {},
   "outputs": [],
   "source": [
    "loan_performance_file = glob.glob(os.path.join( \"raw_data/Performance_*.csv\"))"
   ]
  },
  {
   "cell_type": "code",
   "execution_count": 25,
   "metadata": {},
   "outputs": [
    {
     "name": "stderr",
     "output_type": "stream",
     "text": [
      "C:\\ProgramData\\Anaconda3\\lib\\site-packages\\ipykernel_launcher.py:2: DtypeWarning: Columns (14,15,16) have mixed types. Specify dtype option on import or set low_memory=False.\n",
      "  \n"
     ]
    }
   ],
   "source": [
    "df_from_each_file = (pd.read_csv(f) for f in loan_performance_file)\n",
    "perf_df   = pd.concat(df_from_each_file, ignore_index=True)\n",
    "perf_df.to_csv('Performace_Q3_merged.csv',index=False)"
   ]
  },
  {
   "cell_type": "code",
   "execution_count": 26,
   "metadata": {},
   "outputs": [],
   "source": [
    "perf_merged, acq_merged = pd.read_csv('Performace_Q3_merged.csv'), pd.read_csv('Acquisition_Q3_merged.csv')"
   ]
  },
  {
   "cell_type": "code",
   "execution_count": 42,
   "metadata": {},
   "outputs": [],
   "source": [
    "loan_data = acq_merged.merge(perf_merged , left_on='Loan_ID', right_on='LOAN IDENTIFIER', how='inner')\n",
    "loan_data.drop('LOAN IDENTIFIER',inplace=True,axis=1)\n",
    "loan_data.to_csv('load_data_Q3.csv',index=False)"
   ]
  },
  {
   "cell_type": "code",
   "execution_count": 2,
   "metadata": {},
   "outputs": [
    {
     "ename": "FileNotFoundError",
     "evalue": "[Errno 2] File b'load_data_Q3.csv' does not exist: b'load_data_Q3.csv'",
     "output_type": "error",
     "traceback": [
      "\u001b[0;31m---------------------------------------------------------------------------\u001b[0m",
      "\u001b[0;31mFileNotFoundError\u001b[0m                         Traceback (most recent call last)",
      "\u001b[0;32m<ipython-input-2-5565ef622314>\u001b[0m in \u001b[0;36m<module>\u001b[0;34m\u001b[0m\n\u001b[0;32m----> 1\u001b[0;31m \u001b[0mloan_data\u001b[0m \u001b[0;34m=\u001b[0m \u001b[0mpd\u001b[0m\u001b[0;34m.\u001b[0m\u001b[0mread_csv\u001b[0m\u001b[0;34m(\u001b[0m\u001b[0;34m'load_data_Q3.csv'\u001b[0m\u001b[0;34m)\u001b[0m\u001b[0;34m\u001b[0m\u001b[0;34m\u001b[0m\u001b[0m\n\u001b[0m",
      "\u001b[0;32m~/anaconda3/lib/python3.7/site-packages/pandas/io/parsers.py\u001b[0m in \u001b[0;36mparser_f\u001b[0;34m(filepath_or_buffer, sep, delimiter, header, names, index_col, usecols, squeeze, prefix, mangle_dupe_cols, dtype, engine, converters, true_values, false_values, skipinitialspace, skiprows, skipfooter, nrows, na_values, keep_default_na, na_filter, verbose, skip_blank_lines, parse_dates, infer_datetime_format, keep_date_col, date_parser, dayfirst, iterator, chunksize, compression, thousands, decimal, lineterminator, quotechar, quoting, doublequote, escapechar, comment, encoding, dialect, tupleize_cols, error_bad_lines, warn_bad_lines, delim_whitespace, low_memory, memory_map, float_precision)\u001b[0m\n\u001b[1;32m    700\u001b[0m                     skip_blank_lines=skip_blank_lines)\n\u001b[1;32m    701\u001b[0m \u001b[0;34m\u001b[0m\u001b[0m\n\u001b[0;32m--> 702\u001b[0;31m         \u001b[0;32mreturn\u001b[0m \u001b[0m_read\u001b[0m\u001b[0;34m(\u001b[0m\u001b[0mfilepath_or_buffer\u001b[0m\u001b[0;34m,\u001b[0m \u001b[0mkwds\u001b[0m\u001b[0;34m)\u001b[0m\u001b[0;34m\u001b[0m\u001b[0;34m\u001b[0m\u001b[0m\n\u001b[0m\u001b[1;32m    703\u001b[0m \u001b[0;34m\u001b[0m\u001b[0m\n\u001b[1;32m    704\u001b[0m     \u001b[0mparser_f\u001b[0m\u001b[0;34m.\u001b[0m\u001b[0m__name__\u001b[0m \u001b[0;34m=\u001b[0m \u001b[0mname\u001b[0m\u001b[0;34m\u001b[0m\u001b[0;34m\u001b[0m\u001b[0m\n",
      "\u001b[0;32m~/anaconda3/lib/python3.7/site-packages/pandas/io/parsers.py\u001b[0m in \u001b[0;36m_read\u001b[0;34m(filepath_or_buffer, kwds)\u001b[0m\n\u001b[1;32m    427\u001b[0m \u001b[0;34m\u001b[0m\u001b[0m\n\u001b[1;32m    428\u001b[0m     \u001b[0;31m# Create the parser.\u001b[0m\u001b[0;34m\u001b[0m\u001b[0;34m\u001b[0m\u001b[0;34m\u001b[0m\u001b[0m\n\u001b[0;32m--> 429\u001b[0;31m     \u001b[0mparser\u001b[0m \u001b[0;34m=\u001b[0m \u001b[0mTextFileReader\u001b[0m\u001b[0;34m(\u001b[0m\u001b[0mfilepath_or_buffer\u001b[0m\u001b[0;34m,\u001b[0m \u001b[0;34m**\u001b[0m\u001b[0mkwds\u001b[0m\u001b[0;34m)\u001b[0m\u001b[0;34m\u001b[0m\u001b[0;34m\u001b[0m\u001b[0m\n\u001b[0m\u001b[1;32m    430\u001b[0m \u001b[0;34m\u001b[0m\u001b[0m\n\u001b[1;32m    431\u001b[0m     \u001b[0;32mif\u001b[0m \u001b[0mchunksize\u001b[0m \u001b[0;32mor\u001b[0m \u001b[0miterator\u001b[0m\u001b[0;34m:\u001b[0m\u001b[0;34m\u001b[0m\u001b[0;34m\u001b[0m\u001b[0m\n",
      "\u001b[0;32m~/anaconda3/lib/python3.7/site-packages/pandas/io/parsers.py\u001b[0m in \u001b[0;36m__init__\u001b[0;34m(self, f, engine, **kwds)\u001b[0m\n\u001b[1;32m    893\u001b[0m             \u001b[0mself\u001b[0m\u001b[0;34m.\u001b[0m\u001b[0moptions\u001b[0m\u001b[0;34m[\u001b[0m\u001b[0;34m'has_index_names'\u001b[0m\u001b[0;34m]\u001b[0m \u001b[0;34m=\u001b[0m \u001b[0mkwds\u001b[0m\u001b[0;34m[\u001b[0m\u001b[0;34m'has_index_names'\u001b[0m\u001b[0;34m]\u001b[0m\u001b[0;34m\u001b[0m\u001b[0;34m\u001b[0m\u001b[0m\n\u001b[1;32m    894\u001b[0m \u001b[0;34m\u001b[0m\u001b[0m\n\u001b[0;32m--> 895\u001b[0;31m         \u001b[0mself\u001b[0m\u001b[0;34m.\u001b[0m\u001b[0m_make_engine\u001b[0m\u001b[0;34m(\u001b[0m\u001b[0mself\u001b[0m\u001b[0;34m.\u001b[0m\u001b[0mengine\u001b[0m\u001b[0;34m)\u001b[0m\u001b[0;34m\u001b[0m\u001b[0;34m\u001b[0m\u001b[0m\n\u001b[0m\u001b[1;32m    896\u001b[0m \u001b[0;34m\u001b[0m\u001b[0m\n\u001b[1;32m    897\u001b[0m     \u001b[0;32mdef\u001b[0m \u001b[0mclose\u001b[0m\u001b[0;34m(\u001b[0m\u001b[0mself\u001b[0m\u001b[0;34m)\u001b[0m\u001b[0;34m:\u001b[0m\u001b[0;34m\u001b[0m\u001b[0;34m\u001b[0m\u001b[0m\n",
      "\u001b[0;32m~/anaconda3/lib/python3.7/site-packages/pandas/io/parsers.py\u001b[0m in \u001b[0;36m_make_engine\u001b[0;34m(self, engine)\u001b[0m\n\u001b[1;32m   1120\u001b[0m     \u001b[0;32mdef\u001b[0m \u001b[0m_make_engine\u001b[0m\u001b[0;34m(\u001b[0m\u001b[0mself\u001b[0m\u001b[0;34m,\u001b[0m \u001b[0mengine\u001b[0m\u001b[0;34m=\u001b[0m\u001b[0;34m'c'\u001b[0m\u001b[0;34m)\u001b[0m\u001b[0;34m:\u001b[0m\u001b[0;34m\u001b[0m\u001b[0;34m\u001b[0m\u001b[0m\n\u001b[1;32m   1121\u001b[0m         \u001b[0;32mif\u001b[0m \u001b[0mengine\u001b[0m \u001b[0;34m==\u001b[0m \u001b[0;34m'c'\u001b[0m\u001b[0;34m:\u001b[0m\u001b[0;34m\u001b[0m\u001b[0;34m\u001b[0m\u001b[0m\n\u001b[0;32m-> 1122\u001b[0;31m             \u001b[0mself\u001b[0m\u001b[0;34m.\u001b[0m\u001b[0m_engine\u001b[0m \u001b[0;34m=\u001b[0m \u001b[0mCParserWrapper\u001b[0m\u001b[0;34m(\u001b[0m\u001b[0mself\u001b[0m\u001b[0;34m.\u001b[0m\u001b[0mf\u001b[0m\u001b[0;34m,\u001b[0m \u001b[0;34m**\u001b[0m\u001b[0mself\u001b[0m\u001b[0;34m.\u001b[0m\u001b[0moptions\u001b[0m\u001b[0;34m)\u001b[0m\u001b[0;34m\u001b[0m\u001b[0;34m\u001b[0m\u001b[0m\n\u001b[0m\u001b[1;32m   1123\u001b[0m         \u001b[0;32melse\u001b[0m\u001b[0;34m:\u001b[0m\u001b[0;34m\u001b[0m\u001b[0;34m\u001b[0m\u001b[0m\n\u001b[1;32m   1124\u001b[0m             \u001b[0;32mif\u001b[0m \u001b[0mengine\u001b[0m \u001b[0;34m==\u001b[0m \u001b[0;34m'python'\u001b[0m\u001b[0;34m:\u001b[0m\u001b[0;34m\u001b[0m\u001b[0;34m\u001b[0m\u001b[0m\n",
      "\u001b[0;32m~/anaconda3/lib/python3.7/site-packages/pandas/io/parsers.py\u001b[0m in \u001b[0;36m__init__\u001b[0;34m(self, src, **kwds)\u001b[0m\n\u001b[1;32m   1851\u001b[0m         \u001b[0mkwds\u001b[0m\u001b[0;34m[\u001b[0m\u001b[0;34m'usecols'\u001b[0m\u001b[0;34m]\u001b[0m \u001b[0;34m=\u001b[0m \u001b[0mself\u001b[0m\u001b[0;34m.\u001b[0m\u001b[0musecols\u001b[0m\u001b[0;34m\u001b[0m\u001b[0;34m\u001b[0m\u001b[0m\n\u001b[1;32m   1852\u001b[0m \u001b[0;34m\u001b[0m\u001b[0m\n\u001b[0;32m-> 1853\u001b[0;31m         \u001b[0mself\u001b[0m\u001b[0;34m.\u001b[0m\u001b[0m_reader\u001b[0m \u001b[0;34m=\u001b[0m \u001b[0mparsers\u001b[0m\u001b[0;34m.\u001b[0m\u001b[0mTextReader\u001b[0m\u001b[0;34m(\u001b[0m\u001b[0msrc\u001b[0m\u001b[0;34m,\u001b[0m \u001b[0;34m**\u001b[0m\u001b[0mkwds\u001b[0m\u001b[0;34m)\u001b[0m\u001b[0;34m\u001b[0m\u001b[0;34m\u001b[0m\u001b[0m\n\u001b[0m\u001b[1;32m   1854\u001b[0m         \u001b[0mself\u001b[0m\u001b[0;34m.\u001b[0m\u001b[0munnamed_cols\u001b[0m \u001b[0;34m=\u001b[0m \u001b[0mself\u001b[0m\u001b[0;34m.\u001b[0m\u001b[0m_reader\u001b[0m\u001b[0;34m.\u001b[0m\u001b[0munnamed_cols\u001b[0m\u001b[0;34m\u001b[0m\u001b[0;34m\u001b[0m\u001b[0m\n\u001b[1;32m   1855\u001b[0m \u001b[0;34m\u001b[0m\u001b[0m\n",
      "\u001b[0;32mpandas/_libs/parsers.pyx\u001b[0m in \u001b[0;36mpandas._libs.parsers.TextReader.__cinit__\u001b[0;34m()\u001b[0m\n",
      "\u001b[0;32mpandas/_libs/parsers.pyx\u001b[0m in \u001b[0;36mpandas._libs.parsers.TextReader._setup_parser_source\u001b[0;34m()\u001b[0m\n",
      "\u001b[0;31mFileNotFoundError\u001b[0m: [Errno 2] File b'load_data_Q3.csv' does not exist: b'load_data_Q3.csv'"
     ]
    }
   ],
   "source": [
    "loan_data = pd.read_csv('RawData/')"
   ]
  },
  {
   "cell_type": "code",
   "execution_count": 46,
   "metadata": {},
   "outputs": [],
   "source": [
    "def null_percentage(df):\n",
    "    '''\n",
    "    input: dataframe\n",
    "    output: Null percentage of columns in dataframe\n",
    "    \n",
    "    '''\n",
    "    percent = df.isnull().sum()/len(df.index)*100\n",
    "    df = pd.DataFrame(round(percent,2),columns=['null_percent'])\n",
    "    \n",
    "    \n",
    "    return df[df['null_percent']!=0.00].sort_values('null_percent',ascending=False)"
   ]
  },
  {
   "cell_type": "code",
   "execution_count": 47,
   "metadata": {},
   "outputs": [
    {
     "data": {
      "text/html": [
       "<div>\n",
       "<style scoped>\n",
       "    .dataframe tbody tr th:only-of-type {\n",
       "        vertical-align: middle;\n",
       "    }\n",
       "\n",
       "    .dataframe tbody tr th {\n",
       "        vertical-align: top;\n",
       "    }\n",
       "\n",
       "    .dataframe thead th {\n",
       "        text-align: right;\n",
       "    }\n",
       "</style>\n",
       "<table border=\"1\" class=\"dataframe\">\n",
       "  <thead>\n",
       "    <tr style=\"text-align: right;\">\n",
       "      <th></th>\n",
       "      <th>null_percent</th>\n",
       "    </tr>\n",
       "  </thead>\n",
       "  <tbody>\n",
       "    <tr>\n",
       "      <td>FORECLOSURE  PRINCIPAL WRITE-OFF  AMOUNT</td>\n",
       "      <td>100.00</td>\n",
       "    </tr>\n",
       "    <tr>\n",
       "      <td>PRINCIPAL FORGIVENESS   AMOUNT</td>\n",
       "      <td>99.99</td>\n",
       "    </tr>\n",
       "    <tr>\n",
       "      <td>REPURCHASE  MAKE  WHOLE  PROCEEDS</td>\n",
       "      <td>99.86</td>\n",
       "    </tr>\n",
       "    <tr>\n",
       "      <td>CREDIT ENHANCEMENT   PROCEEDS</td>\n",
       "      <td>99.57</td>\n",
       "    </tr>\n",
       "    <tr>\n",
       "      <td>SERVICER  NAME</td>\n",
       "      <td>99.50</td>\n",
       "    </tr>\n",
       "    <tr>\n",
       "      <td>ASSET  RECOVERY  COSTS</td>\n",
       "      <td>99.25</td>\n",
       "    </tr>\n",
       "    <tr>\n",
       "      <td>NON  INTEREST  BEARING  UPB</td>\n",
       "      <td>99.22</td>\n",
       "    </tr>\n",
       "    <tr>\n",
       "      <td>OTHER  FORECLOSURE  PROCEEDS</td>\n",
       "      <td>99.18</td>\n",
       "    </tr>\n",
       "    <tr>\n",
       "      <td>PROPERTY  PRESERVATION  AND REPAIR  COSTS</td>\n",
       "      <td>98.93</td>\n",
       "    </tr>\n",
       "    <tr>\n",
       "      <td>ASSOCIATED  TAXES  FOR HOLDING PROPERTY</td>\n",
       "      <td>98.79</td>\n",
       "    </tr>\n",
       "    <tr>\n",
       "      <td>MISCELLANEOUS  HOLDING EXPENSES  AND  CREDITS</td>\n",
       "      <td>98.74</td>\n",
       "    </tr>\n",
       "    <tr>\n",
       "      <td>FORECLOSURE  DATE</td>\n",
       "      <td>98.66</td>\n",
       "    </tr>\n",
       "    <tr>\n",
       "      <td>NET  SALE PROCEEDS</td>\n",
       "      <td>98.66</td>\n",
       "    </tr>\n",
       "    <tr>\n",
       "      <td>FORECLOSURE  COSTS</td>\n",
       "      <td>98.64</td>\n",
       "    </tr>\n",
       "    <tr>\n",
       "      <td>DISPOSITION  DATE</td>\n",
       "      <td>98.62</td>\n",
       "    </tr>\n",
       "    <tr>\n",
       "      <td>LAST PAID INSTALLMENT  DATE</td>\n",
       "      <td>98.59</td>\n",
       "    </tr>\n",
       "    <tr>\n",
       "      <td>Mortgage_Insurance_Type</td>\n",
       "      <td>80.63</td>\n",
       "    </tr>\n",
       "    <tr>\n",
       "      <td>Insurance%</td>\n",
       "      <td>80.63</td>\n",
       "    </tr>\n",
       "    <tr>\n",
       "      <td>SERVICING  ACTIVITY  INDICATOR</td>\n",
       "      <td>54.38</td>\n",
       "    </tr>\n",
       "    <tr>\n",
       "      <td>Co_Borrower_FICO</td>\n",
       "      <td>48.89</td>\n",
       "    </tr>\n",
       "    <tr>\n",
       "      <td>ZERO  BALANCE  EFFECTIVE  DATE</td>\n",
       "      <td>45.62</td>\n",
       "    </tr>\n",
       "    <tr>\n",
       "      <td>ZERO BALANCE CODE</td>\n",
       "      <td>45.62</td>\n",
       "    </tr>\n",
       "    <tr>\n",
       "      <td>REPURCHASE  MAKE  WHOLE  PROCEEDS  FLAG</td>\n",
       "      <td>45.62</td>\n",
       "    </tr>\n",
       "    <tr>\n",
       "      <td>DTI</td>\n",
       "      <td>1.92</td>\n",
       "    </tr>\n",
       "    <tr>\n",
       "      <td>CURRENT  LOAN  DELINQUENCY  STATUS</td>\n",
       "      <td>1.41</td>\n",
       "    </tr>\n",
       "    <tr>\n",
       "      <td>ADJUSTED  MONTHS  TO  MATURITY</td>\n",
       "      <td>0.78</td>\n",
       "    </tr>\n",
       "    <tr>\n",
       "      <td>Borrower_FICO</td>\n",
       "      <td>0.17</td>\n",
       "    </tr>\n",
       "  </tbody>\n",
       "</table>\n",
       "</div>"
      ],
      "text/plain": [
       "                                               null_percent\n",
       "FORECLOSURE  PRINCIPAL WRITE-OFF  AMOUNT             100.00\n",
       "PRINCIPAL FORGIVENESS   AMOUNT                        99.99\n",
       "REPURCHASE  MAKE  WHOLE  PROCEEDS                     99.86\n",
       "CREDIT ENHANCEMENT   PROCEEDS                         99.57\n",
       "SERVICER  NAME                                        99.50\n",
       "ASSET  RECOVERY  COSTS                                99.25\n",
       "NON  INTEREST  BEARING  UPB                           99.22\n",
       "OTHER  FORECLOSURE  PROCEEDS                          99.18\n",
       "PROPERTY  PRESERVATION  AND REPAIR  COSTS             98.93\n",
       "ASSOCIATED  TAXES  FOR HOLDING PROPERTY               98.79\n",
       "MISCELLANEOUS  HOLDING EXPENSES  AND  CREDITS         98.74\n",
       "FORECLOSURE  DATE                                     98.66\n",
       "NET  SALE PROCEEDS                                    98.66\n",
       "FORECLOSURE  COSTS                                    98.64\n",
       "DISPOSITION  DATE                                     98.62\n",
       "LAST PAID INSTALLMENT  DATE                           98.59\n",
       "Mortgage_Insurance_Type                               80.63\n",
       "Insurance%                                            80.63\n",
       "SERVICING  ACTIVITY  INDICATOR                        54.38\n",
       "Co_Borrower_FICO                                      48.89\n",
       "ZERO  BALANCE  EFFECTIVE  DATE                        45.62\n",
       "ZERO BALANCE CODE                                     45.62\n",
       "REPURCHASE  MAKE  WHOLE  PROCEEDS  FLAG               45.62\n",
       "DTI                                                    1.92\n",
       "CURRENT  LOAN  DELINQUENCY  STATUS                     1.41\n",
       "ADJUSTED  MONTHS  TO  MATURITY                         0.78\n",
       "Borrower_FICO                                          0.17"
      ]
     },
     "execution_count": 47,
     "metadata": {},
     "output_type": "execute_result"
    }
   ],
   "source": [
    "null_percentage(loan_data)"
   ]
  },
  {
   "cell_type": "code",
   "execution_count": 48,
   "metadata": {},
   "outputs": [
    {
     "data": {
      "text/plain": [
       "Index(['Loan_ID', 'Channel', 'Seller', 'Interest_Rate', 'UPB', 'Loan_Term',\n",
       "       'Origination_Date', 'First_Payment_Date', 'LTV', 'CLTV',\n",
       "       'Num_Borrowers', 'DTI', 'Borrower_FICO', 'First_Time_Buyer',\n",
       "       'Loan_Purpose', 'Dwelling_Type', 'Unit_Count', 'Occupancy', 'State',\n",
       "       'Zip', 'Insurance%', 'Product', 'Co_Borrower_FICO',\n",
       "       'Mortgage_Insurance_Type', 'Relocation_Indicator',\n",
       "       'MONTHLY  REPORTING  PERIOD', 'SERVICER  NAME', 'currIntRate',\n",
       "       'CURRENT  ACTUAL  UPB', 'LOAN AGE',\n",
       "       'REMAINING  MONTHS  TO  LEGAL MATURITY',\n",
       "       'ADJUSTED  MONTHS  TO  MATURITY', 'MATURITY  DATE',\n",
       "       'METROPOLITAN  STATISTICAL  AREA  (MSA)',\n",
       "       'CURRENT  LOAN  DELINQUENCY  STATUS', 'MODIFICATION  FLAG',\n",
       "       'ZERO BALANCE CODE', 'ZERO  BALANCE  EFFECTIVE  DATE',\n",
       "       'LAST PAID INSTALLMENT  DATE', 'FORECLOSURE  DATE', 'DISPOSITION  DATE',\n",
       "       'FORECLOSURE  COSTS', 'PROPERTY  PRESERVATION  AND REPAIR  COSTS',\n",
       "       'ASSET  RECOVERY  COSTS',\n",
       "       'MISCELLANEOUS  HOLDING EXPENSES  AND  CREDITS',\n",
       "       'ASSOCIATED  TAXES  FOR HOLDING PROPERTY', 'NET  SALE PROCEEDS',\n",
       "       'CREDIT ENHANCEMENT   PROCEEDS', 'REPURCHASE  MAKE  WHOLE  PROCEEDS',\n",
       "       'OTHER  FORECLOSURE  PROCEEDS', 'NON  INTEREST  BEARING  UPB',\n",
       "       'PRINCIPAL FORGIVENESS   AMOUNT',\n",
       "       'REPURCHASE  MAKE  WHOLE  PROCEEDS  FLAG',\n",
       "       'FORECLOSURE  PRINCIPAL WRITE-OFF  AMOUNT',\n",
       "       'SERVICING  ACTIVITY  INDICATOR'],\n",
       "      dtype='object')"
      ]
     },
     "execution_count": 48,
     "metadata": {},
     "output_type": "execute_result"
    }
   ],
   "source": [
    "loan_data.columns"
   ]
  },
  {
   "cell_type": "code",
   "execution_count": 49,
   "metadata": {},
   "outputs": [],
   "source": [
    "\n",
    "loan_data['ZERO BALANCE CODE'].fillna(0,inplace=True)\n",
    "\n",
    "zero_bal_cd_map = {0:'Current',1:'Prepaid',2:'Third Party Sale',3:'Short Sale',\n",
    "                   6:'Repurchase',9:'REO',15:'Note Sale',16:'RPL Loan Sale'}\n",
    "\n",
    "loan_data['ZERO BALANCE CODE'] = loan_data['ZERO BALANCE CODE'].map(zero_bal_cd_map).apply(str)\n",
    "\n",
    "zero_bal_cd_map = {'Current':'Current','Prepaid':'Prepaid','Third Party Sale':'Underperforming','Short Sale':'Underperforming',\n",
    "                   'Repurchase':'Underperforming','REO':'Underperforming','Note Sale':'Underperforming','RPL Loan Sale':'Underperforming'}\n",
    "\n",
    "loan_data['Current_Status'] = loan_data['ZERO BALANCE CODE'].map(zero_bal_cd_map).apply(str)"
   ]
  },
  {
   "cell_type": "code",
   "execution_count": 50,
   "metadata": {},
   "outputs": [],
   "source": [
    "loan_data['Mortgage_Insurance_Type'].fillna(0,inplace=True)\n",
    "loan_data['Insurance%'].fillna(0,inplace=True)\n",
    "loan_data['Num_Borrowers'].fillna(1,inplace=True)\n",
    "loan_data['CLTV'].fillna(loan_data['LTV'],inplace=True)\n",
    "loan_data.drop('Co_Borrower_FICO',axis=1,inplace=True)"
   ]
  },
  {
   "cell_type": "code",
   "execution_count": 51,
   "metadata": {},
   "outputs": [],
   "source": [
    "FICO_bins = [0,620,660,700,740,780,850]\n",
    "FICO_labels = ['0-620', '620-660','660-700','700-740','740-780','780+']\n",
    "loan_data['FICO_bins'] = pd.cut(loan_data['Borrower_FICO'],bins=FICO_bins,labels=FICO_labels)\n",
    "\n",
    "Term_bins =[0,180,360]\n",
    "Term_labels =['<=15 Years','<= 30 Years']\n",
    "loan_data['Term_bins'] = pd.cut(loan_data['Loan_Term'],bins=Term_bins,labels=Term_labels)\n",
    "\n",
    "loan_data.drop(['Borrower_FICO','Loan_Term'],inplace=True,axis=1)"
   ]
  },
  {
   "cell_type": "code",
   "execution_count": 54,
   "metadata": {},
   "outputs": [],
   "source": [
    "loan_data['FORECLOSURE  DATE'].fillna(-1,inplace=True)\n",
    "loan_data['CURRENT  LOAN  DELINQUENCY  STATUS'] = loan_data['CURRENT  LOAN  DELINQUENCY  STATUS'].replace(np.NaN,-1)\n",
    "loan_data['CURRENT  LOAN  DELINQUENCY  STATUS'] = loan_data['CURRENT  LOAN  DELINQUENCY  STATUS'].replace('X',-1)\n",
    "loan_data['CURRENT  LOAN  DELINQUENCY  STATUS'] = loan_data['CURRENT  LOAN  DELINQUENCY  STATUS'].astype('int64')"
   ]
  },
  {
   "cell_type": "code",
   "execution_count": 58,
   "metadata": {},
   "outputs": [],
   "source": [
    "def code_delinq(value):\n",
    "    \n",
    "    if (int(value)<30):\n",
    "        value = 0\n",
    "    \n",
    "    if (int(value) >= 30 and int(value) <= 89):\n",
    "        value = 1\n",
    "        \n",
    "    if (int(value) > 89):\n",
    "        value = 2\n",
    "        \n",
    "    return value\n",
    "\n",
    "\n",
    "loan_data['CURRENT  LOAN  DELINQUENCY  STATUS'] = loan_data['CURRENT  LOAN  DELINQUENCY  STATUS'].apply(code_delinq)\n"
   ]
  },
  {
   "cell_type": "code",
   "execution_count": null,
   "metadata": {},
   "outputs": [],
   "source": [
    "CurrentLoanDeliquencyStatus_map = {0:'low',1:'Moderate',2:'High'}\n",
    "\n",
    "loan_data['CURRENT  LOAN  DELINQUENCY  STATUS'] = loan_data['CURRENT  LOAN  DELINQUENCY  STATUS'].map(CurrentLoanDeliquencyStatus_map).apply(str)"
   ]
  },
  {
   "cell_type": "code",
   "execution_count": 62,
   "metadata": {},
   "outputs": [
    {
     "data": {
      "text/plain": [
       "low         2081316\n",
       "Moderate        188\n",
       "High             62\n",
       "Name: CURRENT  LOAN  DELINQUENCY  STATUS, dtype: int64"
      ]
     },
     "execution_count": 62,
     "metadata": {},
     "output_type": "execute_result"
    }
   ],
   "source": [
    "loan_data['CURRENT  LOAN  DELINQUENCY  STATUS'].value_counts()"
   ]
  },
  {
   "cell_type": "code",
   "execution_count": 64,
   "metadata": {},
   "outputs": [
    {
     "data": {
      "text/plain": [
       "Prepaid            1096625\n",
       "Current             949530\n",
       "Underperforming      35411\n",
       "Name: Current_Status, dtype: int64"
      ]
     },
     "execution_count": 64,
     "metadata": {},
     "output_type": "execute_result"
    }
   ],
   "source": [
    "loan_data['Current_Status'].value_counts()"
   ]
  },
  {
   "cell_type": "code",
   "execution_count": 66,
   "metadata": {},
   "outputs": [
    {
     "data": {
      "text/plain": [
       "-1            2053662\n",
       "09/01/2010        526\n",
       "07/01/2010        504\n",
       "06/01/2010        482\n",
       "08/01/2010        480\n",
       "               ...   \n",
       "01/01/2009          8\n",
       "03/01/2005          7\n",
       "02/01/2005          2\n",
       "01/01/2005          2\n",
       "12/01/2004          1\n",
       "Name: FORECLOSURE  DATE, Length: 176, dtype: int64"
      ]
     },
     "execution_count": 66,
     "metadata": {},
     "output_type": "execute_result"
    }
   ],
   "source": [
    "loan_data['FORECLOSURE  DATE'].value_counts()"
   ]
  },
  {
   "cell_type": "code",
   "execution_count": null,
   "metadata": {},
   "outputs": [],
   "source": [
    "zero_bal_cd_map = {0:'Current',1:'Prepaid',2:'Third Party Sale',3:'Short Sale',\n",
    "                   6:'Repurchase',9:'REO',15:'Note Sale',16:'RPL Loan Sale'}\n",
    "\n",
    "zero_bal_cd_map_ = {'Current':'Current','Prepaid':'Prepaid','Third Party Sale':'Underperforming','Short Sale':'Underperforming',\n",
    "                   'Repurchase':'Underperforming','REO':'Underperforming','Note Sale':'Underperforming','RPL Loan Sale':'Underperforming'}"
   ]
  },
  {
   "cell_type": "code",
   "execution_count": 67,
   "metadata": {},
   "outputs": [],
   "source": [
    "def target(currentstatus,Delinquent_Ind,Foreclosure_Ind):\n",
    "    if(Foreclosure_Ind!=-1):\n",
    "        val='High-Risk'\n",
    "        \n",
    "    elif (currentstatus=='Current' and Delinquent_Ind=='High') or (currentstatus =='Underperforming'):\n",
    "        val='High-Risk'\n",
    "        \n",
    "    elif (currentstatus=='Current' and Delinquent_Ind=='Moderate') or (currentstatus=='Prepaid'):\n",
    "        val='Moderate-Risk'\n",
    "    \n",
    "    else: \n",
    "        val='No-Risk'\n",
    "    return val"
   ]
  },
  {
   "cell_type": "code",
   "execution_count": 68,
   "metadata": {},
   "outputs": [],
   "source": [
    "loan_data['target'] = loan_data.apply(lambda row: target(row['Current_Status'], row['CURRENT  LOAN  DELINQUENCY  STATUS'],\n",
    "                                               row['FORECLOSURE  DATE']), axis=1)\n"
   ]
  },
  {
   "cell_type": "code",
   "execution_count": 70,
   "metadata": {},
   "outputs": [
    {
     "data": {
      "text/plain": [
       "Moderate-Risk    1096813\n",
       "No-Risk           949280\n",
       "High-Risk          35473\n",
       "Name: target, dtype: int64"
      ]
     },
     "execution_count": 70,
     "metadata": {},
     "output_type": "execute_result"
    }
   ],
   "source": [
    "loan_data['target'].value_counts()"
   ]
  },
  {
   "cell_type": "code",
   "execution_count": 71,
   "metadata": {},
   "outputs": [],
   "source": [
    "loan_data.to_csv('processed_loan.csv',index=False)"
   ]
  },
  {
   "cell_type": "code",
   "execution_count": null,
   "metadata": {},
   "outputs": [],
   "source": []
  }
 ],
 "metadata": {
  "kernelspec": {
   "display_name": "Python 3",
   "language": "python",
   "name": "python3"
  },
  "language_info": {
   "codemirror_mode": {
    "name": "ipython",
    "version": 3
   },
   "file_extension": ".py",
   "mimetype": "text/x-python",
   "name": "python",
   "nbconvert_exporter": "python",
   "pygments_lexer": "ipython3",
   "version": "3.7.4"
  }
 },
 "nbformat": 4,
 "nbformat_minor": 2
}
